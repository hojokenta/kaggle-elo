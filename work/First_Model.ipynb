{
 "cells": [
  {
   "cell_type": "code",
   "execution_count": 1,
   "metadata": {},
   "outputs": [],
   "source": [
    "import glob\n",
    "import os\n",
    "import pandas as pd"
   ]
  },
  {
   "cell_type": "code",
   "execution_count": 2,
   "metadata": {},
   "outputs": [],
   "source": [
    "# 指定したファイルパスのcsvファイルを全部読み込む関数\n",
    "def read_csv_all(target_path = '../input/'):\n",
    "    for file in glob.glob(target_path+'*.csv'):\n",
    "        raw_name = 'raw_' + file.replace(target_path,'').replace('.csv','')\n",
    "        exec('{} = pd.read_csv(\\'{}\\')'.format(raw_name, file), globals())\n",
    "        print('read {} as {}'.format(file, raw_name))"
   ]
  },
  {
   "cell_type": "code",
   "execution_count": null,
   "metadata": {},
   "outputs": [],
   "source": []
  }
 ],
 "metadata": {
  "kernelspec": {
   "display_name": "Python 3",
   "language": "python",
   "name": "python3"
  },
  "language_info": {
   "codemirror_mode": {
    "name": "ipython",
    "version": 3
   },
   "file_extension": ".py",
   "mimetype": "text/x-python",
   "name": "python",
   "nbconvert_exporter": "python",
   "pygments_lexer": "ipython3",
   "version": "3.6.5"
  }
 },
 "nbformat": 4,
 "nbformat_minor": 2
}
